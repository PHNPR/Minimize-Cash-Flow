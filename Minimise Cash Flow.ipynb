{
 "cells": [
  {
   "cell_type": "code",
   "execution_count": 1,
   "metadata": {},
   "outputs": [],
   "source": [
    "N = int(input('Number of persons(or vertices in graph) = '))"
   ]
  },
  {
   "cell_type": "code",
   "execution_count": 2,
   "metadata": {},
   "outputs": [],
   "source": [
    "def getMin(arr):\n",
    "    '''\n",
    "    # A utility function that returns index of minimum value in arr[]\n",
    "    '''\n",
    "    minInd = 0\n",
    "    for i in range(1, N):\n",
    "        if (arr[i] < arr[minInd]):\n",
    "            minInd = i\n",
    "    return minInd"
   ]
  },
  {
   "cell_type": "code",
   "execution_count": 3,
   "metadata": {},
   "outputs": [],
   "source": [
    "def getMax(arr):\n",
    "    '''\n",
    "    # A utility function that returns index of maximum value in arr[]\n",
    "    '''\n",
    "    maxInd = 0\n",
    "    for i in range(1, N):\n",
    "        if (arr[i] > arr[maxInd]):\n",
    "            maxInd = i\n",
    "    return maxInd"
   ]
  },
  {
   "cell_type": "code",
   "execution_count": 4,
   "metadata": {},
   "outputs": [],
   "source": [
    "def minOf2(x, y):\n",
    "    '''\n",
    "    # A utility function to return minimum of 2 values\n",
    "    '''\n",
    "    return x if x < y else y"
   ]
  },
  {
   "cell_type": "code",
   "execution_count": 5,
   "metadata": {},
   "outputs": [],
   "source": [
    "\n",
    "# amount[p] indicates the net amount to be credited/debited to/from person 'p'.\n",
    "# If amount[p] is positive, then i'th person will amount[i].\n",
    "# If amount[p] is negative, then i'th person will give -amount[i].\n",
    "\n",
    "def minCashFlowRec(amount):\n",
    "    \n",
    "    # Find the indexes of minimum and maximum values in amount[].\n",
    "    # Amount[mxCredit] indicates the maximum amount to be given(or credited) to any person.\n",
    "    # Amount[mxDebit] indicates the maximum amount to be taken (or debited) from any person.\n",
    "    # So if there is a positive value in amount[], then there must be a negative value.\n",
    "\n",
    "    mxCredit = getMax(amount)\n",
    "    mxDebit = getMin(amount)\n",
    "\n",
    "    # If both amounts are 0 , then all amounts are settled\n",
    "\n",
    "    if (amount[mxCredit] == 0 and amount[mxDebit] == 0):\n",
    "        return 0\n",
    "\n",
    "    # Find the minimum of two amounts\n",
    "    min = minOf2(-amount[mxDebit], amount[mxCredit])\n",
    "    amount[mxCredit] -=min\n",
    "    amount[mxDebit] += min\n",
    "\n",
    "    # If minimum is the maximum amount to be\n",
    "    print(\"Person \" , mxDebit , \" pays \" , min\n",
    "        , \" to \" , \"Person \" , mxCredit)\n",
    "\n",
    "    # Recur for the amount array. \n",
    "    # Note that it is guaranteed that the recursion would terminate as either amount[mxCredit] or amount[mxDebit] becomes 0\n",
    "    minCashFlowRec(amount)"
   ]
  },
  {
   "cell_type": "code",
   "execution_count": 6,
   "metadata": {},
   "outputs": [],
   "source": [
    "def minCashFlow(graph):\n",
    "    '''\n",
    "    Given a set of persons as graph[] where graph[i][j] indicates the amount that person i needs to pay person j, \n",
    "    this function finds and prints the minimum cash flow to settle all debts.\n",
    "    '''\n",
    "\n",
    "    # Create an array amount[] , initialize all value in it as 0.\n",
    "    amount = [0 for i in range(N)]\n",
    "\n",
    "    # Calculate the net amount to be paid to person 'p', and stores it in amount[p].\n",
    "    # The value of amount[p] can be calculated by subtracting debts of 'p' from credits of 'p'\n",
    "    for p in range(N):\n",
    "        for i in range(N):\n",
    "            amount[p] += (graph[i][p] - graph[p][i])\n",
    "\n",
    "    minCashFlowRec(amount)"
   ]
  },
  {
   "cell_type": "code",
   "execution_count": 7,
   "metadata": {},
   "outputs": [
    {
     "name": "stdout",
     "output_type": "stream",
     "text": [
      "Person  1  pays  4000  to  Person  2\n",
      "Person  0  pays  3000  to  Person  2\n"
     ]
    }
   ],
   "source": [
    "# graph[i][j] indicates the amount that person i needs to pay person j\n",
    "graph =    [[0, 1000, 2000],\n",
    "            [0, 0, 5000],\n",
    "            [0, 0, 0]     ]\n",
    "minCashFlow(graph)"
   ]
  }
 ],
 "metadata": {
  "kernelspec": {
   "display_name": "Python 3",
   "language": "python",
   "name": "python3"
  },
  "language_info": {
   "codemirror_mode": {
    "name": "ipython",
    "version": 3
   },
   "file_extension": ".py",
   "mimetype": "text/x-python",
   "name": "python",
   "nbconvert_exporter": "python",
   "pygments_lexer": "ipython3",
   "version": "3.11.4"
  },
  "orig_nbformat": 4
 },
 "nbformat": 4,
 "nbformat_minor": 2
}
